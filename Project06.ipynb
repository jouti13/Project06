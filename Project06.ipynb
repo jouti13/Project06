{
  "nbformat": 4,
  "nbformat_minor": 0,
  "metadata": {
    "colab": {
      "provenance": []
    },
    "kernelspec": {
      "name": "python3",
      "display_name": "Python 3"
    },
    "language_info": {
      "name": "python"
    }
  },
  "cells": [
    {
      "cell_type": "markdown",
      "source": [
        "Project Title: \"Personal Expense Tracker\"\n",
        "\n",
        "Objective\n",
        "Develop a Python application that allows users to track and analyze their daily expenses using\n",
        "concepts learned in the course, including file handling, data structures, loops, NumPy, and\n",
        "Pandas."
      ],
      "metadata": {
        "id": "aNM9smd3xx6Q"
      }
    },
    {
      "cell_type": "code",
      "execution_count": 2,
      "metadata": {
        "colab": {
          "base_uri": "https://localhost:8080/"
        },
        "id": "2ANtTCVhxihu",
        "outputId": "f426030f-7117-4685-9fd9-86173d451d5b"
      },
      "outputs": [
        {
          "output_type": "stream",
          "name": "stdout",
          "text": [
            "          Date       Category Amount Description\n",
            "0    9/28/2024           Rent  $2.36     Concert\n",
            "1   11/27/2024           Food  $8.46     Concert\n",
            "2    2/16/2024           Rent  $7.75       Movie\n",
            "3    8/10/2024           Rent  $8.58     Concert\n",
            "4    5/24/2024  Entertainment  $2.52    Shopping\n",
            "..         ...            ...    ...         ...\n",
            "95   2/10/2024  Entertainment  $2.92    Shopping\n",
            "96   11/2/2024           Rent  $9.59     Concert\n",
            "97   11/3/2024  Entertainment  $6.25    Shopping\n",
            "98   5/23/2024           Food  $4.43        Park\n",
            "99   7/14/2024  Entertainment  $0.41        Park\n",
            "\n",
            "[100 rows x 4 columns]\n"
          ]
        }
      ],
      "source": [
        "#User Input and Data Storage\n",
        "import numpy as np\n",
        "import pandas as pd\n",
        "Data_file = \"/content/Project data.csv\"\n",
        "read_data = pd.read_csv(Data_file)\n",
        "print(read_data)"
      ]
    },
    {
      "cell_type": "code",
      "source": [
        "#expenses summary and data analysis\n",
        "#Read the CSV file\n",
        "file_path = '/content/Project data.csv'\n",
        "try:\n",
        "    df = pd.read_csv(file_path)\n",
        "except FileNotFoundError:\n",
        "    print(f\"Error: The file {file_path} was not found.\")\n",
        "    exit()\n",
        "\n",
        "# Remove the $ sign and convert to numeric\n",
        "df['Amount'] = df['Amount'].replace({'\\$': ''}, regex=True)\n",
        "df['Amount'] = pd.to_numeric(df['Amount'], errors='coerce')\n",
        "\n",
        "# Step 3: Check for NaN values (caused by invalid entries)\n",
        "if df['Amount'].isna().any():\n",
        "    print(\"Warning: Some entries in the 'Amount' column could not be converted to numbers. They will be excluded.\")\n",
        "    df = df.dropna(subset=['Amount'])\n",
        "\n",
        "# Step 4: Group by Category and calculate total\n",
        "grouped_expenses = df.groupby('Category')['Amount'].sum()\n",
        "\n",
        "# Step 5: Display the results\n",
        "print(\"Total Expenses by Category:\")\n",
        "print(grouped_expenses)\n"
      ],
      "metadata": {
        "colab": {
          "base_uri": "https://localhost:8080/"
        },
        "id": "SEGoCH3eDJj8",
        "outputId": "dfc3368e-c651-4014-93d7-3c1bd10aa1c0"
      },
      "execution_count": 4,
      "outputs": [
        {
          "output_type": "stream",
          "name": "stdout",
          "text": [
            "Total Expenses by Category:\n",
            "Category\n",
            "Entertainment    155.44\n",
            "Food             192.83\n",
            "Rent             181.39\n",
            "Name: Amount, dtype: float64\n"
          ]
        }
      ]
    },
    {
      "cell_type": "code",
      "source": [
        "#monthly\n",
        "# Read and clean the data\n",
        "df['Date'] = pd.to_datetime(df['Date'], errors='coerce')\n",
        "df['Amount'] = pd.to_numeric(df['Amount'], errors='coerce')\n",
        "\n",
        "# Drop rows with invalid data\n",
        "df = df.dropna(subset=['Date', 'Amount'])\n",
        "\n",
        "# Calculate Monthly Total Expenses\n",
        "df['Month'] = df['Date'].dt.to_period('M')\n",
        "monthly_expenses = df.groupby('Month')['Amount'].sum()\n",
        "\n",
        "# Calculate Average Daily Expenses\n",
        "daily_expenses = df.groupby('Date')['Amount'].sum()\n",
        "average_daily_expense = daily_expenses.mean()\n",
        "\n",
        "# Print Results\n",
        "print(\"Monthly Total Expenses:\")\n",
        "print(monthly_expenses)\n",
        "\n",
        "print(f\"\\nAverage Daily Expense: {average_daily_expense:.2f}\")\n"
      ],
      "metadata": {
        "colab": {
          "base_uri": "https://localhost:8080/"
        },
        "id": "TxxxOstAFnyV",
        "outputId": "54a8410e-18ed-42bc-8804-e8ee05a309ce"
      },
      "execution_count": 6,
      "outputs": [
        {
          "output_type": "stream",
          "name": "stdout",
          "text": [
            "Monthly Total Expenses:\n",
            "Month\n",
            "2023-12    34.82\n",
            "2024-01    24.54\n",
            "2024-02    49.73\n",
            "2024-03    34.45\n",
            "2024-04    33.11\n",
            "2024-05    41.48\n",
            "2024-06    35.36\n",
            "2024-07    40.76\n",
            "2024-08    47.87\n",
            "2024-09    63.72\n",
            "2024-10    52.45\n",
            "2024-11    64.57\n",
            "2024-12     6.80\n",
            "Freq: M, Name: Amount, dtype: float64\n",
            "\n",
            "Average Daily Expense: 6.38\n"
          ]
        }
      ]
    },
    {
      "cell_type": "code",
      "source": [
        "#visualization\n",
        "import matplotlib.pyplot as plt\n",
        "\n",
        "# Group expenses by Category\n",
        "category_expenses = df.groupby('Category')['Amount'].sum()\n",
        "\n",
        "# Create a pie chart\n",
        "plt.figure(figsize=(8, 8))\n",
        "category_expenses.plot(kind='pie', autopct='%1.1f%%', startangle=90, colors=plt.cm.Paired.colors)\n",
        "plt.title('Percentage of Expenses by Category')\n",
        "plt.ylabel('')\n",
        "plt.show()\n"
      ],
      "metadata": {
        "colab": {
          "base_uri": "https://localhost:8080/",
          "height": 675
        },
        "id": "ZA2Bo-nWFrzY",
        "outputId": "c5449b14-414e-4a1e-8481-31c70a098587"
      },
      "execution_count": 7,
      "outputs": [
        {
          "output_type": "display_data",
          "data": {
            "text/plain": [
              "<Figure size 800x800 with 1 Axes>"
            ],
            "image/png": "[encoded data removed]"
          },
          "metadata": {}
        }
      ]
    },
    {
      "cell_type": "code",
      "source": [
        "# Bar chart for Monthly Expenses\n",
        "plt.figure(figsize=(10, 6))\n",
        "monthly_expenses.plot(kind='bar', color='skyblue', edgecolor='black')\n",
        "plt.title('Monthly Total Expenses')\n",
        "plt.xlabel('Month')\n",
        "plt.ylabel('Total Expense')\n",
        "plt.xticks(rotation=45)\n",
        "plt.grid(axis='y', linestyle='--', alpha=0.7)\n",
        "plt.show()\n"
      ],
      "metadata": {
        "colab": {
          "base_uri": "https://localhost:8080/",
          "height": 601
        },
        "id": "LECzXxx4GubJ",
        "outputId": "ef017d6d-7f25-4e13-a2b0-a2744f2408cd"
      },
      "execution_count": 8,
      "outputs": [
        {
          "output_type": "display_data",
          "data": {
            "text/plain": [
              "<Figure size 1000x600 with 1 Axes>"
            ],
            "image/png": "[encoded data removed]"
          },
          "metadata": {}
        }
      ]
    },
    {
      "cell_type": "code",
      "source": [
        "# Filter data for a selected month (e.g., December 2024)\n",
        "selected_month = '2024-12'\n",
        "daily_expenses_selected_month = df[df['Date'].dt.to_period('M') == selected_month].groupby('Date')['Amount'].sum()\n",
        "\n",
        "# Line graph for Daily Expenses\n",
        "plt.figure(figsize=(12, 6))\n",
        "daily_expenses_selected_month.plot(kind='line', marker='o', color='green')\n",
        "plt.title(f'Daily Expenses for {selected_month}')\n",
        "plt.xlabel('Date')\n",
        "plt.ylabel('Daily Expense')\n",
        "plt.grid(axis='both', linestyle='--', alpha=0.7)\n",
        "plt.show()\n"
      ],
      "metadata": {
        "colab": {
          "base_uri": "https://localhost:8080/",
          "height": 537
        },
        "id": "D0mY1_16G1Vb",
        "outputId": "3e2c742a-1582-4cc0-c6a1-0249e6cd1a74"
      },
      "execution_count": 9,
      "outputs": [
        {
          "output_type": "display_data",
          "data": {
            "text/plain": [
              "<Figure size 1200x600 with 1 Axes>"
            ],
            "image/png": "[encoded data removed]"
          },
          "metadata": {}
        }
      ]
    },
    {
      "cell_type": "code",
      "source": [
        "import matplotlib.pyplot as plt\n",
        "\n",
        "# Ensure data is filtered correctly for the selected month\n",
        "selected_month = '2024-12'\n",
        "daily_expenses_selected_month = df[df['Date'].dt.to_period('M') == selected_month].groupby('Date')['Amount'].sum()\n",
        "\n",
        "# Check if there are enough data points\n",
        "if not daily_expenses_selected_month.empty:\n",
        "    plt.figure(figsize=(10, 6))\n",
        "    daily_expenses_selected_month.plot(kind='line', marker='o', color='green')\n",
        "    plt.title(f'Daily Expenses for {selected_month}')\n",
        "    plt.xlabel('Date')\n",
        "    plt.ylabel('Daily Expense')\n",
        "    plt.grid(axis='both', linestyle='--', alpha=0.7)\n",
        "    plt.xlim(daily_expenses_selected_month.index.min(), daily_expenses_selected_month.index.max())\n",
        "    plt.xticks(rotation=45)\n",
        "    plt.show()\n",
        "else:\n",
        "    print(f\"No data available for the selected month: {selected_month}\")\n"
      ],
      "metadata": {
        "colab": {
          "base_uri": "https://localhost:8080/",
          "height": 602
        },
        "id": "zx8iD7-yHRf8",
        "outputId": "40bbe754-c90d-4464-bcb4-a2ba3fdec985"
      },
      "execution_count": 10,
      "outputs": [
        {
          "output_type": "stream",
          "name": "stderr",
          "text": [
            "<ipython-input-10-5f8ddaac2234>:15: UserWarning: Attempting to set identical low and high xlims makes transformation singular; automatically expanding.\n",
            "  plt.xlim(daily_expenses_selected_month.index.min(), daily_expenses_selected_month.index.max())\n"
          ]
        },
        {
          "output_type": "display_data",
          "data": {
            "text/plain": [
              "<Figure size 1000x600 with 1 Axes>"
            ],
            "image/png": "[encoded data removed]"
          },
          "metadata": {}
        }
      ]
    },
    {
      "cell_type": "code",
      "source": [
        "print(f\"Data for {selected_month}:\")\n",
        "print(daily_expenses_selected_month)\n"
      ],
      "metadata": {
        "colab": {
          "base_uri": "https://localhost:8080/"
        },
        "id": "UfiJJVpzHbyJ",
        "outputId": "d12b766b-6bee-4049-f842-47a1ef7534d3"
      },
      "execution_count": 11,
      "outputs": [
        {
          "output_type": "stream",
          "name": "stdout",
          "text": [
            "Data for 2024-12:\n",
            "Date\n",
            "2024-12-04    6.8\n",
            "Name: Amount, dtype: float64\n"
          ]
        }
      ]
    },
    {
      "cell_type": "code",
      "source": [
        "import pandas as pd\n",
        "\n",
        "df = pd.read_csv(\"/content/Project data.csv\")\n",
        "\n",
        "# Convert 'Date' to datetime and 'Amount' to numeric for consistency\n",
        "df['Date'] = pd.to_datetime(df['Date'], errors='coerce')\n",
        "df['Amount'] = pd.to_numeric(df['Amount'], errors='coerce')\n",
        "\n",
        "# Function 1: Add a new expense with user input\n",
        "def add_expense():\n",
        "    date = input(\"Enter the date (YYYY-MM-DD): \")\n",
        "    category = input(\"Enter the category (e.g., Food, Rent, Entertainment): \")\n",
        "    amount = input(\"Enter the amount: \")\n",
        "    description = input(\"Enter the description: \")\n",
        "\n",
        "    try:\n",
        "        # Convert date and amount to appropriate data types\n",
        "        date = pd.to_datetime(date, errors='coerce')\n",
        "        amount = float(amount)\n",
        "\n",
        "        # Ensure valid date and amount input\n",
        "        if pd.isna(date):\n",
        "            print(\"Invalid date format! Please enter the date in YYYY-MM-DD format.\")\n",
        "            return\n",
        "        if amount <= 0:\n",
        "            print(\"Invalid amount! Please enter a positive number for the amount.\")\n",
        "            return\n",
        "\n",
        "        # Create a new entry and append it to the DataFrame\n",
        "        new_expense = pd.DataFrame({\n",
        "            'Date': [date],\n",
        "            'Category': [category],\n",
        "            'Amount': [amount],\n",
        "            'Description': [description]\n",
        "        })\n",
        "        global df\n",
        "        df = pd.concat([df, new_expense], ignore_index=True)  # Append new entry\n",
        "        df.to_csv(\"your_file.csv\", index=False)  # Save the updated file\n",
        "        print(\"Expense added successfully!\")\n",
        "\n",
        "    except ValueError:\n",
        "        print(\"Invalid input for amount. Please enter a numeric value.\")\n",
        "\n",
        "# Example usage of the function to add an expense:\n",
        "add_expense()\n"
      ],
      "metadata": {
        "colab": {
          "base_uri": "https://localhost:8080/"
        },
        "id": "hiE9yWZUJtS2",
        "outputId": "b05c49bd-7c2f-4b6b-a293-c04eafced7f9"
      },
      "execution_count": 17,
      "outputs": [
        {
          "output_type": "stream",
          "name": "stdout",
          "text": [
            "Enter the date (YYYY-MM-DD): 2024-12-01\n",
            "Enter the category (e.g., Food, Rent, Entertainment): Food\n",
            "Enter the amount: 25\n",
            "Enter the description: Movie\n",
            "Expense added successfully!\n"
          ]
        }
      ]
    },
    {
      "cell_type": "code",
      "source": [
        "#Bonus\n",
        "import re\n",
        "import pandas as pd\n",
        "\n",
        "# Load the data from CSV\n",
        "def load_data():\n",
        "    try:\n",
        "        df = pd.read_csv(\"/content/Project data.csv\")\n",
        "    except FileNotFoundError:\n",
        "        print(\"Error: The file '/content/Project data.csv' was not found.\")\n",
        "        return pd.DataFrame()\n",
        "    except Exception as e:\n",
        "        print(f\"Error loading data: {e}\")\n",
        "        return pd.DataFrame()\n",
        "    return df\n",
        "\n",
        "# Date validation using RegEx (YYYY-MM-DD format)\n",
        "def validate_date(date_str):\n",
        "    pattern = r\"^\\d{4}-\\d{2}-\\d{2}$\"\n",
        "    if re.match(pattern, date_str):\n",
        "        return True\n",
        "    else:\n",
        "        print(\"Invalid date format. Please enter date as YYYY-MM-DD.\")\n",
        "        return False\n",
        "\n",
        "# Add new expense (with exception handling)\n",
        "def add_expense():\n",
        "    try:\n",
        "        date = input(\"Enter expense date (YYYY-MM-DD): \")\n",
        "        while not validate_date(date):\n",
        "            date = input(\"Enter valid expense date (YYYY-MM-DD): \")\n",
        "\n",
        "        category = input(\"Enter expense category (e.g., Food, Rent, Entertainment): \")\n",
        "        amount = input(\"Enter expense amount: \")\n",
        "\n",
        "        # Check if amount is a valid number\n",
        "        try:\n",
        "            amount = float(amount)\n",
        "            if amount < 0:\n",
        "                print(\"Amount cannot be negative. Please enter a valid amount.\")\n",
        "                return\n",
        "        except ValueError:\n",
        "            print(\"Invalid amount. Please enter a valid number.\")\n",
        "            return\n",
        "\n",
        "        description = input(\"Enter a short description of the expense: \")\n",
        "\n",
        "        # Create a new row of data\n",
        "        new_expense = pd.DataFrame([[date, category, amount, description]], columns=[\"Date\", \"Category\", \"Amount\", \"Description\"])\n",
        "\n",
        "        # Load the existing data and append the new expense\n",
        "        df = load_data()\n",
        "        if df.empty:\n",
        "            df = new_expense\n",
        "        else:\n",
        "            df = pd.concat([df, new_expense], ignore_index=True)\n",
        "\n",
        "        # Save the updated data to CSV\n",
        "        df.to_csv(\"expenses.csv\", index=False)\n",
        "        print(\"Expense added successfully.\")\n",
        "\n",
        "    except Exception as e:\n",
        "        print(f\"An error occurred while adding the expense: {e}\")\n",
        "\n",
        "# Main function or menu to interact with the user\n",
        "def main():\n",
        "    print(\"Welcome to the Personal Expense Tracker!\")\n",
        "    while True:\n",
        "        print(\"\\n1. Add New Expense\")\n",
        "        print(\"2. Exit\")\n",
        "        choice = input(\"Choose an option: \")\n",
        "\n",
        "        if choice == \"1\":\n",
        "            add_expense()\n",
        "        elif choice == \"2\":\n",
        "            print(\"Exiting the program.\")\n",
        "            break\n",
        "        else:\n",
        "            print(\"Invalid choice. Please try again.\")\n",
        "\n",
        "# Run the main function\n",
        "if __name__ == \"__main__\":\n",
        "    main()\n"
      ],
      "metadata": {
        "colab": {
          "base_uri": "https://localhost:8080/"
        },
        "id": "C0gPpFh3LpUm",
        "outputId": "46ee7396-7cc2-439c-e6b7-cd74a2e4aec8"
      },
      "execution_count": 18,
      "outputs": [
        {
          "output_type": "stream",
          "name": "stdout",
          "text": [
            "Welcome to the Personal Expense Tracker!\n",
            "\n",
            "1. Add New Expense\n",
            "2. Exit\n",
            "Choose an option: 2\n",
            "Exiting the program.\n"
          ]
        }
      ]
    },
    {
      "cell_type": "code",
      "source": [
        "#keyword searching\n",
        "import pandas as pd\n",
        "import re\n",
        "\n",
        "# Load the data from CSV\n",
        "def load_data():\n",
        "    try:\n",
        "        df = pd.read_csv(\"/content/Project data.csv\")\n",
        "    except FileNotFoundError:\n",
        "        print(\"Error: The file '/content/Project data.csv' was not found.\")\n",
        "        return pd.DataFrame()\n",
        "    except Exception as e:\n",
        "        print(f\"Error loading data: {e}\")\n",
        "        return pd.DataFrame()\n",
        "    return df\n",
        "\n",
        "\n",
        "def search_expenses():\n",
        "    keyword = input(\"Enter a keyword to search for in expense descriptions: \")\n",
        "\n",
        "    # Load the data\n",
        "    df = load_data()\n",
        "\n",
        "    if df.empty:\n",
        "        print(\"No data available.\")\n",
        "        return\n",
        "\n",
        "    matching_expenses = df[df['Description'].str.contains(re.escape(keyword), case=False, na=False)]\n",
        "    if not matching_expenses.empty:\n",
        "        print(\"\\nMatching Expenses:\")\n",
        "        print(matching_expenses[['Date', 'Category', 'Amount', 'Description']])\n",
        "    else:\n",
        "        print(f\"No expenses found matching the keyword: {keyword}\")\n",
        "search_expenses()"
      ],
      "metadata": {
        "colab": {
          "base_uri": "https://localhost:8080/"
        },
        "id": "tjcPz24pOhOX",
        "outputId": "3976d0b3-b8e9-4bf1-9d5b-d8d8c85400f4"
      },
      "execution_count": 21,
      "outputs": [
        {
          "output_type": "stream",
          "name": "stdout",
          "text": [
            "Enter a keyword to search for in expense descriptions: Food\n",
            "\n",
            "Matching Expenses:\n",
            "          Date       Category Amount  Description\n",
            "12  11/23/2024           Rent  $8.73  Street food\n",
            "21    6/8/2024           Food  $3.62  Street food\n",
            "24   6/21/2024  Entertainment  $7.43  Street food\n",
            "25  12/11/2023           Food  $2.64  Street food\n",
            "27   9/19/2024  Entertainment  $1.97  Street food\n",
            "38   6/18/2024  Entertainment  $2.67  Street food\n",
            "49  10/31/2024  Entertainment  $4.30  Street food\n",
            "51   8/17/2024           Rent  $6.24  Street food\n",
            "54    2/4/2024           Food  $1.68  Street food\n",
            "58   10/1/2024  Entertainment  $6.42  Street food\n",
            "65    6/6/2024           Rent  $5.68  Street food\n",
            "68   8/31/2024  Entertainment  $3.03  Street food\n",
            "78    7/4/2024           Rent  $5.09  Street food\n"
          ]
        }
      ]
    },
    {
      "cell_type": "code",
      "source": [
        "#user interaction\n",
        "def main_menu():\n",
        "    while True:\n",
        "        print(\"\\n--- Expense Tracker ---\")\n",
        "        print(\"1. Add a new expense\")\n",
        "        print(\"2. View expense summaries\")\n",
        "        print(\"3. Update an expense\")\n",
        "        print(\"4. Delete an expense\")\n",
        "        print(\"5. Export filtered data to CSV\")\n",
        "        print(\"6. Exit\")\n",
        "\n",
        "        choice = int(input(\"Enter your choice: \"))\n",
        "\n",
        "        if choice == 1:\n",
        "            add_expense()\n",
        "        elif choice == 2:\n",
        "            view_summaries()\n",
        "        elif choice == 3:\n",
        "            update_expense()\n",
        "        elif choice == 4:\n",
        "            delete_expense()\n",
        "        elif choice == 5:\n",
        "            export_data()\n",
        "        elif choice == 6:\n",
        "            print(\"Exiting...\")\n",
        "            break\n",
        "        else:\n",
        "            print(\"Invalid choice, please try again.\")\n",
        "main_menu()"
      ],
      "metadata": {
        "colab": {
          "base_uri": "https://localhost:8080/"
        },
        "id": "KPBtf_iYRzG0",
        "outputId": "227948e2-700b-47f2-9286-8376e8634fde"
      },
      "execution_count": 26,
      "outputs": [
        {
          "output_type": "stream",
          "name": "stdout",
          "text": [
            "\n",
            "--- Expense Tracker ---\n",
            "1. Add a new expense\n",
            "2. View expense summaries\n",
            "3. Update an expense\n",
            "4. Delete an expense\n",
            "5. Export filtered data to CSV\n",
            "6. Exit\n",
            "Enter your choice: 6\n",
            "Exiting...\n"
          ]
        }
      ]
    },
    {
      "cell_type": "code",
      "source": [
        "#view summary\n",
        "def view_summaries():\n",
        "    print(\"\\n--- View Expense Summaries ---\")\n",
        "    print(\"1. Daily Summary\")\n",
        "    print(\"2. Monthly Summary\")\n",
        "    print(\"3. Category-wise Summary\")\n",
        "\n",
        "    choice = int(input(\"Enter your choice: \"))\n",
        "\n",
        "    df = load_data()\n",
        "    if df.empty:\n",
        "        print(\"No data available.\")\n",
        "        return\n",
        "\n",
        "    if choice == 1:\n",
        "        print(\"\\nDaily Summary:\")\n",
        "        print(df.groupby(\"Date\")[\"Amount\"].sum())  # Sum by date\n",
        "    elif choice == 2:\n",
        "        print(\"\\nMonthly Summary:\")\n",
        "        df['Month'] = pd.to_datetime(df['Date']).dt.month\n",
        "        print(df.groupby(\"Month\")[\"Amount\"].sum())  # Sum by month\n",
        "    elif choice == 3:\n",
        "        print(\"\\nCategory-wise Summary:\")\n",
        "        print(df.groupby(\"Category\")[\"Amount\"].sum())  # Sum by category\n",
        "    else:\n",
        "        print(\"Invalid choice, please try again.\")\n",
        "view_summaries()"
      ],
      "metadata": {
        "colab": {
          "base_uri": "https://localhost:8080/"
        },
        "id": "h6oD-DAuSHXR",
        "outputId": "ffab0b37-941f-4750-a269-681c3ff50802"
      },
      "execution_count": 27,
      "outputs": [
        {
          "output_type": "stream",
          "name": "stdout",
          "text": [
            "\n",
            "--- View Expense Summaries ---\n",
            "1. Daily Summary\n",
            "2. Monthly Summary\n",
            "3. Category-wise Summary\n",
            "Enter your choice: 1\n",
            "\n",
            "Daily Summary:\n",
            "Date\n",
            "1/11/2024              $7.38\n",
            "1/13/2024              $1.57\n",
            "1/23/2024              $9.20\n",
            "1/27/2024              $6.39\n",
            "10/1/2024              $6.42\n",
            "                  ...       \n",
            "9/14/2024              $9.22\n",
            "9/18/2024              $8.96\n",
            "9/19/2024              $1.97\n",
            "9/28/2024    $2.36$6.62$8.67\n",
            "9/9/2024               $6.56\n",
            "Name: Amount, Length: 83, dtype: object\n"
          ]
        }
      ]
    },
    {
      "cell_type": "code",
      "source": [
        "#update\n",
        "def update_expense():\n",
        "    expense_id = int(input(\"Enter the expense ID to update: \"))\n",
        "    df = load_data()\n",
        "    if df.empty or expense_id not in df.index:\n",
        "        print(\"Expense ID not found.\")\n",
        "        return\n",
        "\n",
        "    print(\"Enter new values or press Enter to keep the current value.\")\n",
        "    date = input(f\"Current date: {df.loc[expense_id, 'Date']}. New date: \")\n",
        "    category = input(f\"Current category: {df.loc[expense_id, 'Category']}. New category: \")\n",
        "    amount = input(f\"Current amount: {df.loc[expense_id, 'Amount']}. New amount: \")\n",
        "    description = input(f\"Current description: {df.loc[expense_id, 'Description']}. New description: \")\n",
        "\n",
        "    if date: df.loc[expense_id, 'Date'] = date\n",
        "    if category: df.loc[expense_id, 'Category'] = category\n",
        "    if amount: df.loc[expense_id, 'Amount'] = float(amount)\n",
        "    if description: df.loc[expense_id, 'Description'] = description\n",
        "\n",
        "    df.to_csv(\"new_expenses.csv\", index=False)\n",
        "    print(\"Expense updated successfully!\")\n",
        "update_expense()"
      ],
      "metadata": {
        "colab": {
          "base_uri": "https://localhost:8080/"
        },
        "id": "r9o8z9zTSY5p",
        "outputId": "33a35c53-26c0-4bc3-e7b6-6336a98b6575"
      },
      "execution_count": 32,
      "outputs": [
        {
          "output_type": "stream",
          "name": "stdout",
          "text": [
            "Enter the expense ID to update: 3\n",
            "Enter new values or press Enter to keep the current value.\n",
            "Current date: 8/10/2024. New date: 8/8/2024\n",
            "Current category: Rent. New category: new rent\n",
            "Current amount: $8.58. New amount: 6\n",
            "Current description: Concert. New description: nothing\n",
            "Expense updated successfully!\n"
          ]
        }
      ]
    },
    {
      "cell_type": "code",
      "source": [
        "#deleting\n",
        "def delete_expense():\n",
        "    expense_id = int(input(\"Enter the expense ID to delete: \"))\n",
        "    df = load_data()\n",
        "    if df.empty or expense_id not in df.index:\n",
        "        print(\"Expense ID not found.\")\n",
        "        return\n",
        "\n",
        "    df = df.drop(expense_id)  # Drop the expense entry\n",
        "    df.to_csv(\"new_expenses.csv\", index=False)  # Save changes\n",
        "    print(\"Expense deleted successfully!\")\n",
        "delete_expense()"
      ],
      "metadata": {
        "colab": {
          "base_uri": "https://localhost:8080/"
        },
        "id": "sukXbe1XTQJO",
        "outputId": "e8c4cf4c-f16e-4021-c74f-f14d65d36cb4"
      },
      "execution_count": 34,
      "outputs": [
        {
          "output_type": "stream",
          "name": "stdout",
          "text": [
            "Enter the expense ID to delete: 3\n",
            "Expense deleted successfully!\n"
          ]
        }
      ]
    },
    {
      "cell_type": "code",
      "source": [
        "#new data to csv file\n",
        "def export_data():\n",
        "    filter_choice = int(input(\"Export data based on: 1. Category 2. Month: \"))\n",
        "\n",
        "    df = load_data()\n",
        "    if df.empty:\n",
        "        print(\"No data available.\")\n",
        "        return\n",
        "\n",
        "    if filter_choice == 1:\n",
        "        category = input(\"Enter the category to filter: \")\n",
        "        filtered_df = df[df['Category'].str.contains(category, case=False)]\n",
        "    elif filter_choice == 2:\n",
        "        month = int(input(\"Enter the month (1-12): \"))\n",
        "        filtered_df = df[df['Month'] == month]\n",
        "    else:\n",
        "        print(\"Invalid choice.\")\n",
        "        return\n",
        "\n",
        "    export_filename = input(\"Enter the filename to export to (e.g., filtered_data.csv): \")\n",
        "    filtered_df.to_csv(export_filename, index=False)\n",
        "    print(f\"Data exported to {export_filename} successfully!\")\n",
        "export_data()"
      ],
      "metadata": {
        "colab": {
          "base_uri": "https://localhost:8080/"
        },
        "id": "f47ttsffTs_W",
        "outputId": "d21bfe2d-ce2e-491b-e77b-44628d1945ad"
      },
      "execution_count": 35,
      "outputs": [
        {
          "output_type": "stream",
          "name": "stdout",
          "text": [
            "Export data based on: 1. Category 2. Month: 1\n",
            "Enter the category to filter: 1\n",
            "Enter the filename to export to (e.g., filtered_data.csv): jyoti\n",
            "Data exported to jyoti successfully!\n"
          ]
        }
      ]
    },
    {
      "cell_type": "code",
      "source": [
        "#statistical numpy\n",
        "import numpy as np\n",
        "\n",
        "def analyze_expenses():\n",
        "    df = load_data()\n",
        "    if df.empty:\n",
        "        print(\"No data available.\")\n",
        "        return\n",
        "\n",
        "    # Convert 'Amount' column to numeric, handling potential errors\n",
        "    df['Amount'] = pd.to_numeric(df['Amount'].str.replace('$', '', regex=False), errors='coerce')\n",
        "\n",
        "    highest_expense = np.max(df['Amount'])\n",
        "    lowest_expense = np.min(df['Amount'])\n",
        "    average_expense = np.mean(df['Amount'])\n",
        "\n",
        "    print(f\"Highest Expense: ${highest_expense:.2f}\")\n",
        "    print(f\"Lowest Expense: ${lowest_expense:.2f}\")\n",
        "    print(f\"Average Expense: ${average_expense:.2f}\")\n",
        "\n",
        "    # Spending trends (days with the highest and lowest expenses)\n",
        "    day_highest_expense = df.loc[df['Amount'].idxmax(), 'Date']\n",
        "    day_lowest_expense = df.loc[df['Amount'].idxmin(), 'Date']\n",
        "\n",
        "    print(f\"Day with highest expense: {day_highest_expense}\")\n",
        "    print(f\"Day with lowest expense: {day_lowest_expense}\")\n",
        "analyze_expenses()"
      ],
      "metadata": {
        "colab": {
          "base_uri": "https://localhost:8080/"
        },
        "id": "tUyyh8YqUEnt",
        "outputId": "ac2adb75-1da9-4fbd-cbb5-7e44ebd69d9a"
      },
      "execution_count": 40,
      "outputs": [
        {
          "output_type": "stream",
          "name": "stdout",
          "text": [
            "Highest Expense: $9.84\n",
            "Lowest Expense: $0.09\n",
            "Average Expense: $5.30\n",
            "Day with highest expense: 9/13/2024\n",
            "Day with lowest expense: 10/31/2024\n"
          ]
        }
      ]
    },
    {
      "cell_type": "code",
      "source": [
        "#integration\n",
        "def main_menu():\n",
        "    while True:\n",
        "        print(\"\\n--- Expense Tracker ---\")\n",
        "        print(\"1. Add a new expense\")\n",
        "        print(\"2. View expense summaries\")\n",
        "        print(\"3. Update an expense\")\n",
        "        print(\"4. Delete an expense\")\n",
        "        print(\"5. Export filtered data to CSV\")\n",
        "        print(\"6. Analyze expenses (Statistical Measures)\")\n",
        "        print(\"7. Exit\")\n",
        "\n",
        "        choice = int(input(\"Enter your choice: \"))\n",
        "\n",
        "        if choice == 1:\n",
        "            add_expense()\n",
        "        elif choice == 2:\n",
        "            view_summaries()\n",
        "        elif choice == 3:\n",
        "            update_expense()\n",
        "        elif choice == 4:\n",
        "            delete_expense()\n",
        "        elif choice == 5:\n",
        "            export_data()\n",
        "        elif choice == 6:\n",
        "            analyze_expenses()\n",
        "        elif choice == 7:\n",
        "            print(\"Exiting...\")\n",
        "            break\n",
        "        else:\n",
        "            print(\"Invalid choice, please try again.\")\n",
        "main_menu()"
      ],
      "metadata": {
        "colab": {
          "base_uri": "https://localhost:8080/"
        },
        "id": "L2H2PXxUVET3",
        "outputId": "e62fe398-2a8a-4bbe-f1b9-2dbd24a3e7c4"
      },
      "execution_count": 42,
      "outputs": [
        {
          "output_type": "stream",
          "name": "stdout",
          "text": [
            "\n",
            "--- Expense Tracker ---\n",
            "1. Add a new expense\n",
            "2. View expense summaries\n",
            "3. Update an expense\n",
            "4. Delete an expense\n",
            "5. Export filtered data to CSV\n",
            "6. Analyze expenses (Statistical Measures)\n",
            "7. Exit\n",
            "Enter your choice: 7\n",
            "Exiting...\n"
          ]
        }
      ]
    }
  ]
}